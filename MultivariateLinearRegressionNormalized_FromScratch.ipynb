{
 "cells": [
  {
   "attachments": {},
   "cell_type": "markdown",
   "metadata": {},
   "source": [
    "#### MULTIVARIATE LINEAR REGRESSION FROM SCRATCH WITH NUMPY  ####"
   ]
  },
  {
   "attachments": {},
   "cell_type": "markdown",
   "metadata": {},
   "source": [
    "### Andrew NG Course: Supervised Machine Learning - Regression and Classification - Week 2 ###\n",
    " \n",
    "\n",
    "The code provided implement multivariate linear regression with normalization funcionality"
   ]
  },
  {
   "cell_type": "code",
   "execution_count": 9,
   "metadata": {},
   "outputs": [],
   "source": [
    "import numpy as np\n",
    "import matplotlib.pyplot as plt"
   ]
  },
  {
   "cell_type": "code",
   "execution_count": 68,
   "metadata": {},
   "outputs": [],
   "source": [
    "class MultivariateLinearRegression:\n",
    "    def __init__(self, x_data, y_data, operation_type): #operation = 1 -> normalized ; operaration =  0 -> not normalized\n",
    "        self.x_data = x_data\n",
    "        self.y_data = y_data\n",
    "        self.normalized_x = 0\n",
    "        self.operation_type = operation_type\n",
    "        self.w = np.ones(x_data.shape[1])\n",
    "        self.b = 1\n",
    "\n",
    "    def normalize_data(self):\n",
    "        max_values = np.max(self.x_data, axis=0)\n",
    "        self.normalized_x = self.x_data/ max_values\n",
    "        \n",
    "    def gradient_descent(self, learning_rate): \n",
    "        m = self.x_data.shape[0]\n",
    "    \n",
    "        if self.operation_type == 0:\n",
    "            data = self.x_data\n",
    "        elif self.operation_type == 1:\n",
    "            data = self.normalized_x\n",
    "            \n",
    "        y_prediction = np.dot(data, self.w) + self.b \n",
    "        error = y_prediction - self.y_data\n",
    "        \n",
    "        dw = (1/m) * np.dot(data.T, error)\n",
    "        db = (1/m) * np.sum(error)\n",
    "\n",
    "        self.w = self.w - learning_rate * dw\n",
    "        self.b = self.b - learning_rate * db\n",
    "\n",
    "    def calculate_cost(self):\n",
    "        m = self.x_data.shape[0]\n",
    "\n",
    "        if self.operation_type == 0:\n",
    "            data = self.x_data\n",
    "        elif self.operation_type == 1:\n",
    "            data = self.normalized_x\n",
    "            \n",
    "\n",
    "        y_prediction = np.dot(data, self.w) + self.b \n",
    "        error = y_prediction - self.y_data\n",
    "        cost = (1/(2*m)) * np.sum(error * error)\n",
    "\n",
    "        return cost\n",
    "\n",
    "    def get_parameters(self, epochs, learning_rate):\n",
    "        if self.operation_type == 1:\n",
    "            self.normalize_data()\n",
    "        \n",
    "        costs = []\n",
    "        for i in range(epochs):\n",
    "            self.gradient_descent(learning_rate)\n",
    "\n",
    "            costs.append(self.calculate_cost())\n",
    "\n",
    "        print(\"w = {}, b = {}, cost = {}\".format(self.w, self.b, self.calculate_cost()))\n",
    "\n",
    "        return costs\n",
    "    \n",
    "    def make_prediction(self, values):\n",
    "        if self.operation_type == 0:\n",
    "            x = values\n",
    "        elif self.operation_type == 1:\n",
    "            max_values = np.max(self.x_data, axis=0)\n",
    "            x = values/max_values\n",
    "            \n",
    "\n",
    "        y_prediction = np.sum(np.dot(x, self.w)) + self.b \n",
    "\n",
    "        return y_prediction\n"
   ]
  },
  {
   "cell_type": "code",
   "execution_count": 69,
   "metadata": {},
   "outputs": [
    {
     "name": "stdout",
     "output_type": "stream",
     "text": [
      "w = [2.00000001 2.00000001], b = 2.9999999599055016, cost = 1.4618501772257244e-16\n"
     ]
    },
    {
     "data": {
      "image/png": "[encoded data removed]",
      "text/plain": [
       "<Figure size 640x480 with 1 Axes>"
      ]
     },
     "metadata": {},
     "output_type": "display_data"
    },
    {
     "data": {
      "text/plain": [
       "6.99999997092817"
      ]
     },
     "execution_count": 69,
     "metadata": {},
     "output_type": "execute_result"
    }
   ],
   "source": [
    "#function -> y = 2x1 + 2x2 + 3\n",
    "epochs = 10000\n",
    "x_data = np.array([[1,1],[2,2],[3,3], [4,4], [5,5]])\n",
    "y_data = np.array([7, 11, 15, 19, 23])\n",
    "#y_prediction = np.dot(x_data, w) + b  \n",
    "\n",
    "l1 = MultivariateLinearRegression(x_data, y_data,0)\n",
    "costs = l1.get_parameters(epochs, 0.01)\n",
    "\n",
    "\n",
    "plt.title(\"Cost Function per epoch\")\n",
    "plt.ylabel(\"Cost\")\n",
    "plt.xlabel(\"Epoch\")\n",
    "plt.plot(np.arange(epochs), costs)\n",
    "plt.show()\n",
    "l1.make_prediction([1,1])\n",
    "\n"
   ]
  },
  {
   "cell_type": "code",
   "execution_count": 73,
   "metadata": {},
   "outputs": [
    {
     "name": "stdout",
     "output_type": "stream",
     "text": [
      "w = [0.58958391 0.58922882 0.75491985 0.53071062], b = 0.1272071235663402, cost = 0.009261152881106639\n"
     ]
    },
    {
     "data": {
      "text/plain": [
       "1.5189541077596196"
      ]
     },
     "execution_count": 73,
     "metadata": {},
     "output_type": "execute_result"
    }
   ],
   "source": [
    "#this example only works with normalization \n",
    "\n",
    "X_d = np.array([[150, 3, 10, 2.5],\n",
    "                [200, 4, 15, 3.2],\n",
    "                [120, 2, 5, 1.8],\n",
    "                [180, 3, 12, 2.9],\n",
    "                [250, 4, 20, 4.1],\n",
    "                [300, 5, 25, 3.8],\n",
    "                [220, 3, 8, 2.1],\n",
    "                [260, 4, 18, 3.6],\n",
    "                [180, 2, 7, 1.9],\n",
    "                [240, 4, 16, 3.0]])\n",
    "Y_d = np.array([1.2, 1.8, 0.9, 1.5, 2.3, 2.8, 1.6, 2.1, 1.0, 1.9])\n",
    "\n",
    "# l2 = MultivariateLinearRegression(X_d, Y_d, 1) #not normalized multivariate linear regression -> doesn't work\n",
    "l2 = MultivariateLinearRegression(X_d, Y_d, 1) #normalized multivariate linear regression\n",
    "\n",
    "l2.get_parameters(1000, 0.01)\n",
    "l2.make_prediction([150,4,10,2.5])\n",
    "\n"
   ]
  },
  {
   "cell_type": "code",
   "execution_count": null,
   "metadata": {},
   "outputs": [],
   "source": []
  }
 ],
 "metadata": {
  "kernelspec": {
   "display_name": "Python 3",
   "language": "python",
   "name": "python3"
  },
  "language_info": {
   "codemirror_mode": {
    "name": "ipython",
    "version": 3
   },
   "file_extension": ".py",
   "mimetype": "text/x-python",
   "name": "python",
   "nbconvert_exporter": "python",
   "pygments_lexer": "ipython3",
   "version": "3.10.11"
  },
  "orig_nbformat": 4
 },
 "nbformat": 4,
 "nbformat_minor": 2
}
