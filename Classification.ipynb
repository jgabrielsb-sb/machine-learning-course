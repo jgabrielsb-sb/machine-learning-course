{
 "cells": [
  {
   "cell_type": "code",
   "execution_count": 3,
   "metadata": {},
   "outputs": [],
   "source": [
    "import numpy as np\n",
    "import matplotlib.pyplot as plt"
   ]
  },
  {
   "cell_type": "code",
   "execution_count": 4,
   "metadata": {},
   "outputs": [],
   "source": [
    "def sigmoid(argument):\n",
    "    return 1/(1+np.exp(-argument))\n",
    "\n",
    "\n",
    "class Classification:\n",
    "    def __init__(self, x_data, y_data):\n",
    "        self.input = x_data   #to normalized classifications, it will change to x_data normalized\n",
    "        self.x_data = x_data\n",
    "        self.y_data = y_data\n",
    "        self.weights = np.ones(x_data.shape[1])\n",
    "        self.bias = 1\n",
    "\n",
    "    def fit_parameters(self, learning_rate, epochs):\n",
    "        m, n = self.x_data.shape \n",
    "        error_per_iteration = []\n",
    "\n",
    "        for i in range(epochs):\n",
    "            argument = np.dot(self.x_data, self.weights) + self.bias\n",
    "            prediction = sigmoid(argument) \n",
    "            loss = prediction - self.y_data\n",
    "            error = (1/m) * np.sum(loss)\n",
    "            \n",
    "            dw = (1/m) * np.dot(self.x_data.T, loss)\n",
    "            db = (1/m) * np.sum(loss)\n",
    "\n",
    "            self.weights = self.weights - learning_rate * dw\n",
    "            self.bias = self.bias - learning_rate * db\n",
    "            #print(\"iteration i: {}, error: {}\".format(i, error))\n",
    "            error_per_iteration.append(error)\n",
    "\n",
    "        return error_per_iteration\n",
    "\n",
    "\n",
    "\n",
    "    def predict(self,x_predict):\n",
    "        argument = np.dot(x_predict, self.weights) + self.bias\n",
    "        sigmoid_pred = sigmoid(argument)\n",
    "        prediction = np.vectorize(lambda x: 1 if x>= 0.5 else 0)(sigmoid_pred)\n",
    "        return prediction\n"
   ]
  },
  {
   "cell_type": "code",
   "execution_count": 6,
   "metadata": {},
   "outputs": [
    {
     "data": {
      "image/png": "[encoded data removed]",
      "text/plain": [
       "<Figure size 640x480 with 1 Axes>"
      ]
     },
     "metadata": {},
     "output_type": "display_data"
    },
    {
     "data": {
      "text/plain": [
       "array(1)"
      ]
     },
     "execution_count": 6,
     "metadata": {},
     "output_type": "execute_result"
    }
   ],
   "source": [
    "x_data = np.array([[2, 4], [1, 3], [5, 1], [6, 3], [3, 2], [4, 4]])\n",
    "y_data = np.array([0, 0, 1, 1, 0, 1])\n",
    "\n",
    "c1 = Classification(x_data, y_data)\n",
    "errors = c1.fit_parameters(0.01, 10000)\n",
    "pred = c1.predict([5,1])\n",
    "plt.scatter(np.arange(10000), errors)\n",
    "plt.title(\"Error per iteration\")\n",
    "plt.show()\n",
    "\n",
    "pred\n"
   ]
  },
  {
   "cell_type": "code",
   "execution_count": 32,
   "metadata": {},
   "outputs": [
    {
     "data": {
      "text/plain": [
       "(6,)"
      ]
     },
     "execution_count": 32,
     "metadata": {},
     "output_type": "execute_result"
    }
   ],
   "source": [
    "y_data.shape"
   ]
  },
  {
   "cell_type": "code",
   "execution_count": null,
   "metadata": {},
   "outputs": [],
   "source": []
  }
 ],
 "metadata": {
  "kernelspec": {
   "display_name": "Python 3",
   "language": "python",
   "name": "python3"
  },
  "language_info": {
   "codemirror_mode": {
    "name": "ipython",
    "version": 3
   },
   "file_extension": ".py",
   "mimetype": "text/x-python",
   "name": "python",
   "nbconvert_exporter": "python",
   "pygments_lexer": "ipython3",
   "version": "3.10.11"
  },
  "orig_nbformat": 4
 },
 "nbformat": 4,
 "nbformat_minor": 2
}
