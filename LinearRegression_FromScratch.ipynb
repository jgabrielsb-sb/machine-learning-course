{
 "cells": [
  {
   "attachments": {},
   "cell_type": "markdown",
   "metadata": {},
   "source": [
    "#### LINEAR REGRESSION FROM SCRATCH WITH NUMPY  ####"
   ]
  },
  {
   "attachments": {},
   "cell_type": "markdown",
   "metadata": {},
   "source": [
    "### Andrew NG Course: Supervised Machine Learning - Regression and Classification - Week 1 ###"
   ]
  },
  {
   "cell_type": "code",
   "execution_count": 62,
   "metadata": {},
   "outputs": [],
   "source": [
    "import numpy as np\n",
    "import pandas as pd\n",
    "import matplotlib.pyplot as plt"
   ]
  },
  {
   "cell_type": "code",
   "execution_count": 83,
   "metadata": {},
   "outputs": [],
   "source": [
    "class LinearRegression:\n",
    "    def __init__(self, x_data, y_data):\n",
    "        self.x_data = x_data\n",
    "        self.y_data = y_data\n",
    "        self.w = 0\n",
    "        self.b = 0\n",
    "\n",
    "    def find_parameters(self,epochs, learning_rate):\n",
    "        m = len(self.x_data)\n",
    "        cost = 0\n",
    "\n",
    "        for i in range(epochs):\n",
    "            y_prediction = self.w * self.x_data + self.b\n",
    "            error = y_prediction - self.y_data\n",
    "            cost = (1/2*m) * np.sum(error * error)\n",
    "\n",
    "            dw = (1/m) * np.dot(error,self.x_data)\n",
    "            db =  np.sum((1/m) * error)\n",
    "\n",
    "            self.w = self.w - learning_rate * dw\n",
    "            self.b = self.b - learning_rate * db\n",
    "            #cost.append(new_cost)\n",
    "\n",
    "        print(\"Parameter w : {}, Parameter b : {}, Final Cost: {}\".format(self.w, self.b, cost))\n",
    "        #return cost\n",
    "    "
   ]
  },
  {
   "cell_type": "code",
   "execution_count": 85,
   "metadata": {},
   "outputs": [
    {
     "name": "stdout",
     "output_type": "stream",
     "text": [
      "Parameter w : 2.0000000045215662, Parameter b : 0.9999999836757114, Final Cost: 6.273364552197045e-16\n"
     ]
    }
   ],
   "source": [
    "#Trying to fit curve 2x + 1 --> w = 2; b = 1\n",
    "x_data = np.array([1,2,3,4,5])\n",
    "y_data = np.array([3,5,7,9,11])\n",
    "\n",
    "l1 = LinearRegression(x_data, y_data)\n",
    "l1.find_parameters(1000,0.1)   "
   ]
  },
  {
   "cell_type": "code",
   "execution_count": null,
   "metadata": {},
   "outputs": [],
   "source": []
  }
 ],
 "metadata": {
  "kernelspec": {
   "display_name": "Python 3",
   "language": "python",
   "name": "python3"
  },
  "language_info": {
   "codemirror_mode": {
    "name": "ipython",
    "version": 3
   },
   "file_extension": ".py",
   "mimetype": "text/x-python",
   "name": "python",
   "nbconvert_exporter": "python",
   "pygments_lexer": "ipython3",
   "version": "3.10.11"
  },
  "orig_nbformat": 4
 },
 "nbformat": 4,
 "nbformat_minor": 2
}
