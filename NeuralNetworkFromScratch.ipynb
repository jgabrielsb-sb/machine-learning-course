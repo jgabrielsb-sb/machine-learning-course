{
 "cells": [
  {
   "cell_type": "code",
   "execution_count": 1,
   "metadata": {},
   "outputs": [],
   "source": [
    "import numpy as np\n",
    "import pandas as pd\n",
    "import matplotlib.pyplot as plt"
   ]
  },
  {
   "attachments": {},
   "cell_type": "markdown",
   "metadata": {},
   "source": [
    "### Neural Network from Scratch with Only Numpy ###"
   ]
  },
  {
   "attachments": {},
   "cell_type": "markdown",
   "metadata": {},
   "source": [
    "##### Important Functions #####"
   ]
  },
  {
   "cell_type": "code",
   "execution_count": 252,
   "metadata": {},
   "outputs": [],
   "source": [
    "def mse(y_true, y_pred):\n",
    "    return np.mean(np.power(y_true - y_pred, 2))\n",
    "\n",
    "def mse_prime(y_true, y_pred):\n",
    "    return 2 * (y_pred - y_true) / np.size(y_true)\n",
    "\n",
    "def sigmoid(argument):\n",
    "    return 1/(1+np.exp(-argument))\n",
    "\n",
    "def sigmoid_prime(argument):\n",
    "    s = sigmoid(argument)\n",
    "    return s * (1 - s)\n",
    "\n",
    "def softmax(argument):\n",
    "    return np.exp(argument) / np.sum(np.exp(argument))\n",
    "\n",
    "def mean_squared_error(y_true, y_pred):\n",
    "    n = len(y_true)  # Número de amostras\n",
    "    mse = np.sum((y_true - y_pred) ** 2) / n\n",
    "    return mse"
   ]
  },
  {
   "attachments": {},
   "cell_type": "markdown",
   "metadata": {},
   "source": [
    "##### Layer Implementation #####"
   ]
  },
  {
   "cell_type": "code",
   "execution_count": 255,
   "metadata": {},
   "outputs": [],
   "source": [
    "class Layer:\n",
    "    def __init__(self, input_neurons, output_neurons, output_data):\n",
    "        self.output_data = output_data\n",
    "        self.input_neurons = input_neurons\n",
    "        self.output_neurons = output_neurons\n",
    "        self.weights = np.random.randn(self.output_neurons, self.input_neurons)\n",
    "        self.bias = np.random.randn(self.output_neurons, 1)\n",
    "\n",
    "    def forwardPropagation(self, input_data):\n",
    "        self.input_data = input_data\n",
    "        self.z = np.dot(self.weights, self.input_data) + self.bias\n",
    "\n",
    "    def applyActivationForward(self, activation_function):\n",
    "        self.activation_function = activation_function\n",
    "        \n",
    "        if self.activation_function == 'sigmoid':\n",
    "            return sigmoid(self.z)\n",
    "        \n",
    "    def backPropagation(self, output_gradient, learning_rate):\n",
    "        n = self.input_data.shape[1]\n",
    "\n",
    "        weights_gradient = np.dot(output_gradient, self.input_data.T)\n",
    "        self.weights = self.weights - learning_rate * weights_gradient\n",
    "        self.bias = self.bias - learning_rate * output_gradient\n",
    "        return np.dot(self.weights.T, output_gradient)\n",
    "    \n",
    "    def applyActivationBackward(self, output_gradient):\n",
    "        if self.activation_function == 'sigmoid':\n",
    "            return np.multiply(output_gradient, sigmoid_prime(self.input_data))"
   ]
  },
  {
   "attachments": {},
   "cell_type": "markdown",
   "metadata": {},
   "source": [
    "##### Neural Network implementation: a collection of layers #####"
   ]
  },
  {
   "cell_type": "code",
   "execution_count": 256,
   "metadata": {},
   "outputs": [],
   "source": [
    "class NeuralNetwork:\n",
    "    def __init__(self, layers):\n",
    "        self.layers = layers\n",
    "\n",
    "    def train(self, x, y, epochs, learning_rate):\n",
    "        errors = []\n",
    "        for i in range(epochs):\n",
    "            error = 0\n",
    "            for x_sample, y_sample in zip(x,y):\n",
    "            \n",
    "                #forward propagation\n",
    "                output = x_sample\n",
    "                for layer in self.layers:\n",
    "                    layer.forwardPropagation(output)\n",
    "                    output = layer.applyActivationForward('sigmoid')\n",
    "\n",
    "                error += mse(y_sample, output)\n",
    "                \n",
    "                \n",
    "                #backward propagation\n",
    "                grad = mse_prime(y_sample, output)\n",
    "                for layer in reversed(self.layers):\n",
    "                    grad = layer.backPropagation(grad, learning_rate)\n",
    "                    grad = layer.applyActivationBackward(grad)\n",
    "                \n",
    "            errors.append(error)\n",
    "\n",
    "        return errors\n",
    "    \n",
    "    def predict(self, X):\n",
    "        prediction = []\n",
    "        for x in X:\n",
    "            output = x\n",
    "            for layer in self.layers:\n",
    "                output = layer.forwardPredict(output)\n",
    "\n",
    "            prediction.append(output)\n",
    "\n",
    "        return prediction"
   ]
  },
  {
   "attachments": {},
   "cell_type": "markdown",
   "metadata": {},
   "source": [
    "##### Examples #####"
   ]
  },
  {
   "attachments": {},
   "cell_type": "markdown",
   "metadata": {},
   "source": [
    "##### 1. Training Neural Network to predict XOR #####"
   ]
  },
  {
   "cell_type": "code",
   "execution_count": 265,
   "metadata": {},
   "outputs": [],
   "source": [
    "x_xor = np.array([[[0,0], [0,1], [1,0], [1,1]]]).reshape(4,2,1)\n",
    "y_xor = np.array([[[0,1,1,0]]]).reshape(4,1,1)\n",
    "\n",
    "layer1 = Layer(2,3,y_xor)\n",
    "layer2 = Layer(3,1,y_xor)\n",
    "\n",
    "layers = [layer1, layer2]"
   ]
  },
  {
   "cell_type": "code",
   "execution_count": 266,
   "metadata": {},
   "outputs": [
    {
     "data": {
      "image/png": "[encoded data removed]",
      "text/plain": [
       "<Figure size 640x480 with 1 Axes>"
      ]
     },
     "metadata": {},
     "output_type": "display_data"
    }
   ],
   "source": [
    "epochs = 100000\n",
    "\n",
    "#training neural network and plotting error graph\n",
    "NN_Xor = NeuralNetwork(layers)\n",
    "errors = NN_Xor.train(x_xor, y_xor, epochs, 0.01)\n",
    "\n",
    "#graph showing error\n",
    "plt.plot(np.arange(epochs), errors)\n",
    "plt.title(\"Error evolution per epoch\")\n",
    "plt.xlabel(\"Epochs\")\n",
    "plt.ylabel(\"Error\")\n",
    "plt.show()\n"
   ]
  },
  {
   "cell_type": "code",
   "execution_count": null,
   "metadata": {},
   "outputs": [],
   "source": []
  }
 ],
 "metadata": {
  "kernelspec": {
   "display_name": "Python 3",
   "language": "python",
   "name": "python3"
  },
  "language_info": {
   "codemirror_mode": {
    "name": "ipython",
    "version": 3
   },
   "file_extension": ".py",
   "mimetype": "text/x-python",
   "name": "python",
   "nbconvert_exporter": "python",
   "pygments_lexer": "ipython3",
   "version": "3.10.11"
  },
  "orig_nbformat": 4
 },
 "nbformat": 4,
 "nbformat_minor": 2
}
